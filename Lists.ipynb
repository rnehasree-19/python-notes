{
  "nbformat": 4,
  "nbformat_minor": 0,
  "metadata": {
    "colab": {
      "provenance": []
    },
    "kernelspec": {
      "name": "python3",
      "display_name": "Python 3"
    },
    "language_info": {
      "name": "python"
    }
  },
  "cells": [
    {
      "cell_type": "markdown",
      "source": [
        "# Chapter 4: Lists (Advanced and Complete)\n",
        "\n",
        "Lists in Python are ordered collections that can hold any number of elements, including other lists. They are mutable, meaning we can modify them after creation.\n",
        "\n",
        "##  Key Features:\n",
        "- Ordered and indexed (zero-based)\n",
        "- Mutable (can be changed)\n",
        "- Can contain mixed data types\n",
        "- Can be nested (lists within lists)\n"
      ],
      "metadata": {
        "id": "06lnhJSv62Md"
      }
    },
    {
      "cell_type": "code",
      "execution_count": null,
      "metadata": {
        "id": "CjlVPsz060HM"
      },
      "outputs": [],
      "source": [
        "# Basic list\n",
        "fruits = ['apple', 'banana', 'mango']\n",
        "\n",
        "# Mixed data types\n",
        "mixed = [42, 'hello', True, 3.14]\n",
        "\n",
        "# Nested list\n",
        "nested = [1, 2, ['a', 'b'], 3]\n",
        "\n",
        "print(fruits)\n",
        "print(mixed)\n",
        "print(nested)\n"
      ]
    },
    {
      "cell_type": "markdown",
      "source": [
        "## 🔹 Accessing Elements\n",
        "\n",
        "### Indexing:\n",
        "Use square brackets `[]` to access an element by its index.\n",
        "\n",
        "- `list[i]` → gets element at index `i`\n",
        "- `list[-1]` → gets last item\n",
        "- Indexing out of bounds raises `IndexError`\n",
        "\n",
        "### Slicing:\n",
        "Use `list[start:end:step]` to extract a sublist.\n",
        "\n",
        "- Omitting `start` = starts from beginning\n",
        "- Omitting `end` = goes till end\n",
        "- Omitting `step` = step size of 1\n"
      ],
      "metadata": {
        "id": "a-tUUgLk7Dl8"
      }
    },
    {
      "cell_type": "code",
      "source": [
        "nums = [10, 20, 30, 40, 50, 60]\n",
        "\n",
        "# Indexing\n",
        "print(nums[0])     # 10\n",
        "print(nums[-1])    # 60\n",
        "\n",
        "# Slicing\n",
        "print(nums[1:4])   # [20, 30, 40]\n",
        "print(nums[:3])    # [10, 20, 30]\n",
        "print(nums[::2])   # [10, 30, 50]\n"
      ],
      "metadata": {
        "id": "x8fu2gNE7Kzk"
      },
      "execution_count": null,
      "outputs": []
    },
    {
      "cell_type": "markdown",
      "source": [
        "##  Modifying Lists\n",
        "\n",
        "Lists are mutable, so we can:\n",
        "- Change existing elements: `list[i] = new_value`\n",
        "- Add elements using `append()`, `insert()`, or `extend()`\n",
        "- Remove elements using `remove()`, `pop()`, or `del`\n"
      ],
      "metadata": {
        "id": "5Eka8rnG7OTC"
      }
    },
    {
      "cell_type": "code",
      "source": [
        "# Initial list\n",
        "colors = ['red', 'green', 'blue']\n",
        "\n",
        "# Change value\n",
        "colors[1] = 'yellow'\n",
        "\n",
        "# Append to end\n",
        "colors.append('purple')\n",
        "\n",
        "# Insert at index\n",
        "colors.insert(1, 'orange')\n",
        "\n",
        "# Extend with multiple elements\n",
        "colors.extend(['black', 'white'])\n",
        "\n",
        "# Remove by value\n",
        "colors.remove('red')\n",
        "\n",
        "# Remove by index\n",
        "colors.pop(2)\n",
        "\n",
        "# Delete with del\n",
        "del colors[0]\n",
        "\n",
        "print(colors)\n"
      ],
      "metadata": {
        "id": "Tg0d5jEe7SG0"
      },
      "execution_count": null,
      "outputs": []
    },
    {
      "cell_type": "markdown",
      "source": [
        "##  List Methods (Complete)\n",
        "\n",
        "| Method           | Description |\n",
        "|------------------|-------------|\n",
        "| `append(x)`      | Add `x` to the end of the list |\n",
        "| `extend(iter)`   | Add all items from `iter` |\n",
        "| `insert(i, x)`   | Insert `x` at index `i` |\n",
        "| `remove(x)`      | Remove first occurrence of `x` |\n",
        "| `pop([i])`       | Remove and return item at `i` (default last) |\n",
        "| `clear()`        | Remove all items |\n",
        "| `index(x)`       | Return first index of `x` |\n",
        "| `count(x)`       | Count occurrences of `x` |\n",
        "| `sort()`         | Sort in ascending order |\n",
        "| `sort(reverse=True)` | Sort in descending |\n",
        "| `reverse()`      | Reverse the list in place |\n",
        "| `copy()`         | Return a shallow copy |\n"
      ],
      "metadata": {
        "id": "OESDdM4h7WkY"
      }
    },
    {
      "cell_type": "code",
      "source": [
        "nums = [5, 3, 8, 6, 3, 2]\n",
        "\n",
        "nums.append(10)        # Adds 10\n",
        "nums.extend([11, 12])  # Adds multiple values\n",
        "nums.insert(1, 100)    # Insert 100 at index 1\n",
        "nums.remove(3)         # Removes first 3\n",
        "print(nums.pop())      # Removes and returns last item\n",
        "print(nums.index(6))   # Returns index of 6\n",
        "print(nums.count(3))   # Count of 3s\n",
        "\n",
        "nums.sort()            # Sort ascending\n",
        "nums.reverse()         # Reverse order\n",
        "\n",
        "copy_nums = nums.copy()  # Safe copy\n",
        "\n",
        "print(nums)\n",
        "print(copy_nums)\n"
      ],
      "metadata": {
        "id": "qhVimgBq7ZNM"
      },
      "execution_count": null,
      "outputs": []
    },
    {
      "cell_type": "markdown",
      "source": [
        "##  Membership and Looping\n",
        "\n",
        "You can check if an item exists using `in` and `not in`.\n",
        "\n",
        "Use `for` loops or `while` loops to iterate through lists.\n"
      ],
      "metadata": {
        "id": "tl9STEsE7bqB"
      }
    },
    {
      "cell_type": "code",
      "source": [
        "items = ['pen', 'book', 'bag']\n",
        "\n",
        "# Membership\n",
        "print('pen' in items)       # True\n",
        "print('laptop' not in items)  # True\n",
        "\n",
        "# For loop\n",
        "for item in items:\n",
        "    print(item.upper())\n",
        "\n",
        "# While loop\n",
        "i = 0\n",
        "while i < len(items):\n",
        "    print(items[i])\n",
        "    i += 1\n"
      ],
      "metadata": {
        "id": "JfNles1Q7eLQ"
      },
      "execution_count": null,
      "outputs": []
    },
    {
      "cell_type": "markdown",
      "source": [
        "##  Nested and Multidimensional Lists\n",
        "\n",
        "Lists can contain other lists, which is useful for representing tables, grids, or matrices.\n"
      ],
      "metadata": {
        "id": "mXVxa4pM7hXo"
      }
    },
    {
      "cell_type": "code",
      "source": [
        "matrix = [\n",
        "    [1, 2, 3],\n",
        "    [4, 5, 6],\n",
        "    [7, 8, 9]\n",
        "]\n",
        "\n",
        "# Accessing\n",
        "print(matrix[1][2])  # 6\n",
        "\n",
        "# Looping through 2D list\n",
        "for row in matrix:\n",
        "    for col in row:\n",
        "        print(col, end=' ')\n",
        "    print()\n"
      ],
      "metadata": {
        "id": "xJMLcZ_57jyz"
      },
      "execution_count": null,
      "outputs": []
    },
    {
      "cell_type": "markdown",
      "source": [
        "## 🔹 List Comprehensions (Advanced)\n",
        "\n",
        "List comprehensions are concise ways to create new lists from existing iterables.\n",
        "\n",
        "### Syntax:\n",
        "```python\n",
        "new_list = [expression for item in iterable if condition]\n"
      ],
      "metadata": {
        "id": "-9VOgGNB7qJv"
      }
    },
    {
      "cell_type": "code",
      "source": [
        "# Squares of numbers 0–9\n",
        "squares = [x ** 2 for x in range(10)]\n",
        "print(squares)\n",
        "\n",
        "# Even numbers only\n",
        "evens = [x for x in range(10) if x % 2 == 0]\n",
        "print(evens)\n",
        "\n",
        "# Uppercase strings\n",
        "names = ['alice', 'bob', 'carol']\n",
        "upper_names = [name.upper() for name in names]\n",
        "print(upper_names)\n"
      ],
      "metadata": {
        "id": "jzyCGqTt7tOM"
      },
      "execution_count": null,
      "outputs": []
    },
    {
      "cell_type": "markdown",
      "source": [
        "##  Real-World Use Cases\n",
        "\n",
        "- Storing ordered data (names, items, records)\n",
        "- Representing matrices or tables (2D lists)\n",
        "- Looping through results of a computation\n",
        "- Passing or returning multiple values from functions\n",
        "\n",
        "##  Tips:\n",
        "- Use `copy()` or slicing (`[:]`) to avoid reference issues\n",
        "- Use `in` to check membership efficiently\n",
        "- Prefer `list comprehension` for filtering and transformation\n"
      ],
      "metadata": {
        "id": "yPZ3lqun7vi6"
      }
    },
    {
      "cell_type": "markdown",
      "source": [
        "Practice Questions and Solutions"
      ],
      "metadata": {
        "id": "OCqgh7Nt9NXI"
      }
    },
    {
      "cell_type": "markdown",
      "source": [
        "1. Create a list of your 5 favorite books. Add 2 more, remove 1, and sort them."
      ],
      "metadata": {
        "id": "GZ-5PMw89Pig"
      }
    },
    {
      "cell_type": "code",
      "source": [
        "books = ['Atomic Habits', 'The Alchemist', 'Sapiens', '1984', 'Ikigai']\n",
        "\n",
        "books.append('Deep Work')         # Add 1st new book\n",
        "books.append('Zero to One')       # Add 2nd new book\n",
        "\n",
        "books.remove('1984')              # Remove one book\n",
        "\n",
        "books.sort()                      # Sort list alphabetically\n",
        "\n",
        "print(books)\n"
      ],
      "metadata": {
        "id": "L0jrlZDO74UE"
      },
      "execution_count": null,
      "outputs": []
    },
    {
      "cell_type": "markdown",
      "source": [
        "2. Write a list comprehension to generate all numbers between 1 and 100 that are divisible by both 3 and 5."
      ],
      "metadata": {
        "id": "V6-Wu8yj9TKT"
      }
    },
    {
      "cell_type": "code",
      "source": [
        "divisible_by_3_and_5 = [x for x in range(1, 101) if x % 3 == 0 and x % 5 == 0]\n",
        "print(divisible_by_3_and_5)\n"
      ],
      "metadata": {
        "id": "TTV82T0t9VH1"
      },
      "execution_count": null,
      "outputs": []
    },
    {
      "cell_type": "markdown",
      "source": [
        "3. Make a 3x3 nested list (matrix) and access the element at row 2, column 3."
      ],
      "metadata": {
        "id": "QtVc3vXS9ZRT"
      }
    },
    {
      "cell_type": "code",
      "source": [
        "matrix = [\n",
        "    [11, 12, 13],\n",
        "    [21, 22, 23],\n",
        "    [31, 32, 33]\n",
        "]\n",
        "\n",
        "# Accessing row 2 (index 1), column 3 (index 2)\n",
        "print(\"Element at row 2, column 3:\", matrix[1][2])\n"
      ],
      "metadata": {
        "id": "VEPreO3D9ahH"
      },
      "execution_count": null,
      "outputs": []
    },
    {
      "cell_type": "markdown",
      "source": [
        "4. Write a function that takes a list and returns a new list with only even numbers."
      ],
      "metadata": {
        "id": "cc8493mU9eHy"
      }
    },
    {
      "cell_type": "code",
      "source": [
        "def get_even_numbers(numbers):\n",
        "    return [num for num in numbers if num % 2 == 0]\n",
        "\n",
        "# Test\n",
        "sample_list = [1, 2, 3, 4, 5, 6]\n",
        "print(get_even_numbers(sample_list))  # Output: [2, 4, 6]\n"
      ],
      "metadata": {
        "id": "ccppJZAw9frz"
      },
      "execution_count": null,
      "outputs": []
    },
    {
      "cell_type": "markdown",
      "source": [
        "5. What’s the difference between append(), extend(), and insert()?"
      ],
      "metadata": {
        "id": "Qdxo6nO89iDl"
      }
    },
    {
      "cell_type": "code",
      "source": [
        "# append() adds a single item to the end\n",
        "a = [1, 2]\n",
        "a.append([3, 4])\n",
        "print(\"append:\", a)  # [1, 2, [3, 4]]\n",
        "\n",
        "# extend() adds each element of the iterable\n",
        "a = [1, 2]\n",
        "a.extend([3, 4])\n",
        "print(\"extend:\", a)  # [1, 2, 3, 4]\n",
        "\n",
        "# insert() adds an item at a specified index\n",
        "a = [1, 2, 3]\n",
        "a.insert(1, 'X')\n",
        "print(\"insert:\", a)  # [1, 'X', 2, 3]\n"
      ],
      "metadata": {
        "id": "xHH8QQoR9jjp"
      },
      "execution_count": null,
      "outputs": []
    }
  ]
}