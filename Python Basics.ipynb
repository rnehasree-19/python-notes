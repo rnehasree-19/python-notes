{
  "nbformat": 4,
  "nbformat_minor": 0,
  "metadata": {
    "colab": {
      "provenance": []
    },
    "kernelspec": {
      "name": "python3",
      "display_name": "Python 3"
    },
    "language_info": {
      "name": "python"
    }
  },
  "cells": [
    {
      "cell_type": "markdown",
      "source": [
        "**The Interactive Shell**"
      ],
      "metadata": {
        "id": "-zBckblOl7cr"
      }
    },
    {
      "cell_type": "code",
      "execution_count": 1,
      "metadata": {
        "colab": {
          "base_uri": "https://localhost:8080/"
        },
        "id": "EVtKFFQdlDGl",
        "outputId": "c16b576c-e71a-4b0b-a407-114aba7dba54"
      },
      "outputs": [
        {
          "output_type": "stream",
          "name": "stdout",
          "text": [
            "Hello world!\n"
          ]
        }
      ],
      "source": [
        "print('Hello world!')"
      ]
    },
    {
      "cell_type": "markdown",
      "source": [
        "**Entering Expressions into the Interactive Shell**"
      ],
      "metadata": {
        "id": "ODCb_4iknxyh"
      }
    },
    {
      "cell_type": "code",
      "source": [
        " 2 + 2"
      ],
      "metadata": {
        "colab": {
          "base_uri": "https://localhost:8080/"
        },
        "id": "u4qYJAk3nS3L",
        "outputId": "e3bc80ad-4be4-4e67-9416-5bb409a0de1f"
      },
      "execution_count": 7,
      "outputs": [
        {
          "output_type": "execute_result",
          "data": {
            "text/plain": [
              "4"
            ]
          },
          "metadata": {},
          "execution_count": 7
        }
      ]
    },
    {
      "cell_type": "code",
      "source": [
        "2"
      ],
      "metadata": {
        "colab": {
          "base_uri": "https://localhost:8080/"
        },
        "id": "rHtX_rZlndDj",
        "outputId": "c2dd45ed-725e-4853-eba8-6853bc65c12d"
      },
      "execution_count": 8,
      "outputs": [
        {
          "output_type": "execute_result",
          "data": {
            "text/plain": [
              "2"
            ]
          },
          "metadata": {},
          "execution_count": 8
        }
      ]
    },
    {
      "cell_type": "code",
      "source": [
        "'42' + 3"
      ],
      "metadata": {
        "colab": {
          "base_uri": "https://localhost:8080/",
          "height": 141
        },
        "id": "kOypigTLm5q6",
        "outputId": "3dfec2c6-1a5f-4224-81ac-2a8055531805"
      },
      "execution_count": 9,
      "outputs": [
        {
          "output_type": "error",
          "ename": "TypeError",
          "evalue": "can only concatenate str (not \"int\") to str",
          "traceback": [
            "\u001b[0;31m---------------------------------------------------------------------------\u001b[0m",
            "\u001b[0;31mTypeError\u001b[0m                                 Traceback (most recent call last)",
            "\u001b[0;32m/tmp/ipython-input-771198318.py\u001b[0m in \u001b[0;36m<cell line: 0>\u001b[0;34m()\u001b[0m\n\u001b[0;32m----> 1\u001b[0;31m \u001b[0;34m'42'\u001b[0m \u001b[0;34m+\u001b[0m \u001b[0;36m3\u001b[0m\u001b[0;34m\u001b[0m\u001b[0;34m\u001b[0m\u001b[0m\n\u001b[0m",
            "\u001b[0;31mTypeError\u001b[0m: can only concatenate str (not \"int\") to str"
          ]
        }
      ]
    },
    {
      "cell_type": "markdown",
      "source": [
        "**“TypeError: Can't convert 'int' object to\n",
        "str implicitly\"**"
      ],
      "metadata": {
        "id": "_L2c4qxgm8BC"
      }
    },
    {
      "cell_type": "markdown",
      "source": [
        "Errors Are Okay !\n",
        "---\n",
        "Programs will crash if they contain code the computer can’t understand, which\n",
        "will cause Python to show an error message. An error message won’t break\n",
        "your computer, though, so don’t be afraid to make mistakes. A crash just means\n",
        "the program stopped running unexpectedly."
      ],
      "metadata": {
        "id": "Q_d6AVxxn4Ik"
      }
    },
    {
      "cell_type": "markdown",
      "source": [
        "#  Python Operator Precedence\n",
        "\n",
        "Operator precedence determines the order in which Python evaluates operators in expressions.\n",
        "\n",
        "##  Precedence Table (Highest to Lowest)\n",
        "\n",
        "| Precedence Level | Operators | Description |\n",
        "|------------------|-----------|-------------|\n",
        "| 1 (Highest) | `()` | Parentheses |\n",
        "| 2 | `**` | Exponentiation |\n",
        "| 3 | `+x`, `-x`, `~x` | Unary plus, minus, bitwise NOT |\n",
        "| 4 | `*`, `/`, `//`, `%` | Multiplication, division, floor division, modulo |\n",
        "| 5 | `+`, `-` | Addition, subtraction |\n",
        "| 6 | `<<`, `>>` | Bitwise shift operators |\n",
        "| 7 | `&` | Bitwise AND |\n",
        "| 8 | `^` | Bitwise XOR |\n",
        "| 9 | `|` | Bitwise OR |\n",
        "| 10 | `in`, `not in`, `is`, `is not`, `<`, `<=`, `>`, `>=`, `!=`, `==` | Comparisons |\n",
        "| 11 | `not` | Logical NOT |\n",
        "| 12 | `and` | Logical AND |\n",
        "| 13 | `or` | Logical OR |\n",
        "| 14 (Lowest) | `=`, `+=`, `-=`, etc. | Assignment operators |\n",
        "\n",
        "##  Associativity\n",
        "\n",
        "- **Left-to-right** for most operators:  \n",
        "  `10 - 5 - 2` → `(10 - 5) - 2 = 3`\n",
        "- **Right-to-left** for `**` and assignment operators:  \n",
        "  `2 ** 3 ** 2` → `2 ** (3 ** 2) = 512`\n",
        "\n",
        "##  Example\n",
        "\n",
        "The following example demonstrates how precedence affects evaluation:\n",
        "\n",
        "```python\n",
        "result = 3 + 4 * 2 ** 2\n",
        "# Step 1: 2 ** 2 = 4\n",
        "# Step 2: 4 * 4 = 16\n",
        "# Step 3: 3 + 16 = 19\n",
        "print(result)  # Output: 19\n"
      ],
      "metadata": {
        "id": "ErCadqqZoc39"
      }
    },
    {
      "cell_type": "code",
      "source": [
        "# Demonstrating operator precedence in Python\n",
        "\n",
        "result = 3 + 4 * 2 ** 2\n",
        "\n",
        "# Breakdown:\n",
        "# 2 ** 2 = 4\n",
        "# 4 * 4 = 16\n",
        "# 3 + 16 = 19\n",
        "\n",
        "print(\"Result:\", result)  # Output: 19\n",
        "\n",
        "# Additional example to show associativity\n",
        "a = 2 ** 3 ** 2  # 2 ** (3 ** 2) = 2 ** 9 = 512\n",
        "print(\"Associativity Example (2 ** 3 ** 2):\", a)\n"
      ],
      "metadata": {
        "id": "v9lCXDGloFo5"
      },
      "execution_count": null,
      "outputs": []
    },
    {
      "cell_type": "markdown",
      "source": [
        "**The Integer, Floating-Point, and String Data Types**\n",
        "\n",
        "---\n",
        "###  Common Data Types in Python\n",
        "\n",
        "| Data Type              | Example Values                             |\n",
        "|------------------------|--------------------------------------------|\n",
        "| **Integers**           | -2, -1, 0, 1, 2, 3, 4, 5                    |\n",
        "| **Floating-point numbers** | -1.25, -1.0, -0.5, 0.0, 0.5, 1.0, 1.25      |\n",
        "| **Strings**            | `'a'`, `'aa'`, `'aaa'`, `'Hello!'`, `'11 cats'` |\n",
        "\n",
        "\n",
        "\n",
        "\n"
      ],
      "metadata": {
        "id": "Gg1psszrovOg"
      }
    },
    {
      "cell_type": "markdown",
      "source": [
        "###  String Concatenation\n",
        "\n",
        "**String concatenation** is the process of joining strings together to form a single string.\n",
        "\n",
        "#### Common Methods:\n",
        "\n",
        "| Method        | Syntax Example                               | Output                   |\n",
        "|---------------|-----------------------------------------------|--------------------------|\n",
        "| `+` operator  | `'Hello' + ' ' + 'World'`                     | `'Hello World'`          |\n",
        "| `join()`      | `' '.join(['Python', 'is', 'fun'])`           | `'Python is fun'`        |\n",
        "| f-strings     | `name = 'Alice'; f'Hello, {name}!'`           | `'Hello, Alice!'`        |\n",
        "| `.format()`   | `'Hello, {}'.format('Bob')`                   | `'Hello, Bob'`           |\n",
        "\n",
        ">  Note: All parts must be strings. Use `str()` to convert numbers if needed.\n",
        "\n",
        "\n",
        "\n"
      ],
      "metadata": {
        "id": "Qg7R8tRjp9Z7"
      }
    },
    {
      "cell_type": "code",
      "source": [
        "# Using + operator\n",
        "greeting = \"Hello\" + \" \" + \"World\"\n",
        "print(greeting)  # Output: Hello World\n",
        "\n",
        "# Using join()\n",
        "words = [\"Python\", \"is\", \"fun\"]\n",
        "sentence = \" \".join(words)\n",
        "print(sentence)  # Output: Python is fun\n",
        "\n",
        "# Using f-strings\n",
        "name = \"Alice\"\n",
        "message = f\"Hello, {name}!\"\n",
        "print(message)  # Output: Hello, Alice!\n",
        "\n",
        "# Using format()\n",
        "formatted = \"Hello, {}\".format(\"Bob\")\n",
        "print(formatted)  # Output: Hello, Bob\n",
        "\n",
        "# Example with type conversion\n",
        "age = 25\n",
        "print(\"Age: \" + str(age))  # Output: Age: 25\n"
      ],
      "metadata": {
        "id": "2V8G7Ylgp4wz"
      },
      "execution_count": null,
      "outputs": []
    },
    {
      "cell_type": "code",
      "source": [
        "\"neha\"+3"
      ],
      "metadata": {
        "colab": {
          "base_uri": "https://localhost:8080/",
          "height": 141
        },
        "id": "COuywwZCw24r",
        "outputId": "2f51edb1-00a2-4233-8ea2-6ecd5d76f104"
      },
      "execution_count": 11,
      "outputs": [
        {
          "output_type": "error",
          "ename": "TypeError",
          "evalue": "can only concatenate str (not \"int\") to str",
          "traceback": [
            "\u001b[0;31m---------------------------------------------------------------------------\u001b[0m",
            "\u001b[0;31mTypeError\u001b[0m                                 Traceback (most recent call last)",
            "\u001b[0;32m/tmp/ipython-input-3666354908.py\u001b[0m in \u001b[0;36m<cell line: 0>\u001b[0;34m()\u001b[0m\n\u001b[0;32m----> 1\u001b[0;31m \u001b[0;34m\"neha\"\u001b[0m\u001b[0;34m+\u001b[0m\u001b[0;36m3\u001b[0m\u001b[0;34m\u001b[0m\u001b[0;34m\u001b[0m\u001b[0m\n\u001b[0m",
            "\u001b[0;31mTypeError\u001b[0m: can only concatenate str (not \"int\") to str"
          ]
        }
      ]
    },
    {
      "cell_type": "markdown",
      "source": [
        "###  String Replication in Python\n",
        "\n",
        "**String replication** is the process of repeating a string using the `*` operator.\n",
        "\n",
        "####  Syntax:\n",
        "```python\n",
        "string * number\n"
      ],
      "metadata": {
        "id": "2bvt3iaAqzQg"
      }
    },
    {
      "cell_type": "code",
      "source": [
        "# Examples of string replication\n",
        "\n",
        "print('ha' * 3)      # Output: hahaha\n",
        "print('-' * 5)       # Output: -----\n",
        "print('abc ' * 2)    # Output: abc abc\n",
        "print('Hello' * 0)   # Output: (empty string)\n"
      ],
      "metadata": {
        "id": "DAwy_LTXq46H"
      },
      "execution_count": null,
      "outputs": []
    },
    {
      "cell_type": "code",
      "source": [
        "\"neha\"*3.0"
      ],
      "metadata": {
        "colab": {
          "base_uri": "https://localhost:8080/",
          "height": 141
        },
        "id": "HctZcET8wvCa",
        "outputId": "306bf634-ad31-42a6-8941-085753490fc9"
      },
      "execution_count": 10,
      "outputs": [
        {
          "output_type": "error",
          "ename": "TypeError",
          "evalue": "can't multiply sequence by non-int of type 'float'",
          "traceback": [
            "\u001b[0;31m---------------------------------------------------------------------------\u001b[0m",
            "\u001b[0;31mTypeError\u001b[0m                                 Traceback (most recent call last)",
            "\u001b[0;32m/tmp/ipython-input-608850270.py\u001b[0m in \u001b[0;36m<cell line: 0>\u001b[0;34m()\u001b[0m\n\u001b[0;32m----> 1\u001b[0;31m \u001b[0;34m\"neha\"\u001b[0m\u001b[0;34m*\u001b[0m\u001b[0;36m3.0\u001b[0m\u001b[0;34m\u001b[0m\u001b[0;34m\u001b[0m\u001b[0m\n\u001b[0m",
            "\u001b[0;31mTypeError\u001b[0m: can't multiply sequence by non-int of type 'float'"
          ]
        }
      ]
    },
    {
      "cell_type": "markdown",
      "source": [
        "##  Storing Values in Variables\n",
        "\n",
        "A **variable** is like a labeled box in memory where you can store a single value. You can store results of expressions in variables and reuse them later.\n",
        "\n",
        "---\n",
        "\n",
        "###  Assignment Statements\n",
        "\n",
        "To store a value in a variable, use an **assignment statement**:\n",
        "\n"
      ],
      "metadata": {
        "id": "ZjTOiOEDrOHh"
      }
    },
    {
      "cell_type": "code",
      "source": [
        "spam = 42"
      ],
      "metadata": {
        "id": "fbGMQbfnq-Mb"
      },
      "execution_count": null,
      "outputs": []
    },
    {
      "cell_type": "markdown",
      "source": [
        "This assigns the value 42 to the variable spam.\n"
      ],
      "metadata": {
        "id": "eULlt7MNrVRO"
      }
    },
    {
      "cell_type": "markdown",
      "source": [
        "You can think of it like labeling a box \"spam\" and putting the number 42 inside."
      ],
      "metadata": {
        "id": "7uifGMX4rjSA"
      }
    },
    {
      "cell_type": "markdown",
      "source": [
        "**Using and Updating Variables**\n",
        "\n",
        "Variables can be used in expressions and updated:"
      ],
      "metadata": {
        "id": "v1M9wiiirmKl"
      }
    },
    {
      "cell_type": "code",
      "source": [
        "spam = 40\n",
        "eggs = 2\n",
        "spam + eggs        # 42\n",
        "spam + eggs + spam # 82\n",
        "spam = spam + 2    # Overwrites spam with 42\n"
      ],
      "metadata": {
        "id": "IuGKiA34rsof"
      },
      "execution_count": null,
      "outputs": []
    },
    {
      "cell_type": "markdown",
      "source": [
        "Reassigning a value to a variable replaces the old one."
      ],
      "metadata": {
        "id": "wSJQ20garvex"
      }
    },
    {
      "cell_type": "code",
      "source": [
        "spam = 'Hello'\n",
        "spam = 'Goodbye'  # 'Hello' is forgotten\n"
      ],
      "metadata": {
        "id": "A8YKl0u6rxFa"
      },
      "execution_count": null,
      "outputs": []
    },
    {
      "cell_type": "markdown",
      "source": [
        "**Variable Naming Rules**\n",
        "\n",
        "---\n",
        "\n",
        "You can name a variable almost anything, but it must follow these 3 rules:\n",
        "\n",
        "\n",
        "*  It must be one word (no spaces).\n",
        "*  It may contain letters, numbers, and underscores (_).\n",
        "*  It must not start with a number."
      ],
      "metadata": {
        "id": "XPF6Y80trzgM"
      }
    },
    {
      "cell_type": "code",
      "source": [
        "# Variable assignment and usage\n",
        "\n",
        "# Initial assignments\n",
        "spam = 40\n",
        "print(\"spam:\", spam)\n",
        "\n",
        "eggs = 2\n",
        "print(\"eggs:\", eggs)\n",
        "\n",
        "# Using variables in expressions\n",
        "print(\"spam + eggs:\", spam + eggs)\n",
        "print(\"spam + eggs + spam:\", spam + eggs + spam)\n",
        "\n",
        "# Updating (overwriting) a variable\n",
        "spam = spam + 2\n",
        "print(\"Updated spam:\", spam)  # Now spam is 42\n",
        "\n",
        "# Reassigning strings\n",
        "spam = 'Hello'\n",
        "print(\"spam:\", spam)\n",
        "\n",
        "spam = 'Goodbye'\n",
        "print(\"spam after overwrite:\", spam)\n"
      ],
      "metadata": {
        "id": "SXIimWkksKXc"
      },
      "execution_count": null,
      "outputs": []
    },
    {
      "cell_type": "markdown",
      "source": [
        "**First Program**"
      ],
      "metadata": {
        "id": "WRwUyfrnsZhh"
      }
    },
    {
      "cell_type": "code",
      "source": [
        " # This program says hello and asks for my name.\n",
        "print('Hello world!')\n",
        "print('What is your name?') # ask for their name\n",
        "myName = input()\n",
        "print('It is good to meet you, ' + myName)\n",
        "print('The length of your name is:')\n",
        "print(len(myName))\n",
        "print('What is your age?') # ask for their age\n",
        "myAge = input()\n",
        "print('You will be ' + str(int(myAge) + 1) + ' in a year.')"
      ],
      "metadata": {
        "colab": {
          "base_uri": "https://localhost:8080/"
        },
        "id": "rzLNZLeVsYkS",
        "outputId": "0e13e377-9554-488f-8a38-5de80e228ea2"
      },
      "execution_count": 5,
      "outputs": [
        {
          "output_type": "stream",
          "name": "stdout",
          "text": [
            "Hello world!\n",
            "What is your name?\n",
            "NehaSree\n",
            "It is good to meet you, NehaSree\n",
            "The length of your name is:\n",
            "8\n",
            "What is your age?\n",
            "18\n",
            "You will be 19 in a year.\n"
          ]
        }
      ]
    },
    {
      "cell_type": "markdown",
      "source": [
        "**Dissecting Your Program**"
      ],
      "metadata": {
        "id": "7rYWG9ufst7K"
      }
    },
    {
      "cell_type": "markdown",
      "source": [
        "**Comments**\n",
        "\n",
        "---\n",
        "\n",
        "This program says hello and asks for my name.\n",
        "\n",
        "**Using print()**\n",
        "\n",
        "---\n",
        "\n",
        "print('Hello world!')\n",
        "print('What is your name?')  # Ask for their name\n",
        "\n",
        "**Getting input from the user**\n",
        "\n",
        "---\n",
        "\n",
        "myName = input()\n",
        "print('It is good to meet you, ' + myName)\n",
        "\n",
        "**Using len() function**\n",
        "\n",
        "---\n",
        "\n",
        "print('The length of your name is:')\n",
        "print(len(myName))\n",
        "\n",
        "**Example of type conversion**\n",
        "\n",
        "---\n",
        "\n",
        "print('What is your age?')\n",
        "myAge = input()\n",
        "print('You will be ' + str(int(myAge) + 1) + ' in a year.')\n",
        "\n",
        "**Demonstrating errors and fixes**\n",
        "\n",
        "---\n",
        "\n",
        "print('I am ' + 29 + ' years old.')  #  This causes a TypeError\n",
        "print('I am ' + str(29) + ' years old.')  #  Correct way\n",
        "\n",
        "**More type conversions**\n",
        "\n",
        "---\n",
        "print(str(0))        # '0'\n",
        "print(str(-3.14))    # '-3.14'\n",
        "print(int('42'))     # 42\n",
        "print(int(1.99))     # 1\n",
        "print(float('3.14')) # 3.14\n",
        "print(float(10))     # 10.0\n"
      ],
      "metadata": {
        "id": "OnjU-sSvtZL1"
      }
    },
    {
      "cell_type": "markdown",
      "source": [
        "## Text and Number Equivalence in Python\n",
        "---\n",
        "In Python, even if values *look* similar, their **data types** matter for comparisons."
      ],
      "metadata": {
        "id": "ztXN7RlcvkiP"
      }
    },
    {
      "cell_type": "code",
      "source": [
        "# Comparing string and number\n",
        "print(42 == '42')        # False — string vs integer\n",
        "\n",
        "# Comparing integer and float\n",
        "print(42 == 42.0)        # True — numerically equal\n",
        "\n",
        "# Comparing float with leading zeros (Python treats 0042.000 as 42.0)\n",
        "print(42.0 == 42.000)    # True — trailing zeros don't affect value\n",
        "\n",
        "# Type checking for clarity\n",
        "print(type(42))          # <class 'int'>\n",
        "print(type('42'))        # <class 'str'>\n",
        "print(type(42.0))        # <class 'float'>\n"
      ],
      "metadata": {
        "colab": {
          "base_uri": "https://localhost:8080/"
        },
        "id": "VOqFxutuvQHz",
        "outputId": "25481ad6-a012-4060-dd2e-68381b990f4e"
      },
      "execution_count": 6,
      "outputs": [
        {
          "output_type": "stream",
          "name": "stdout",
          "text": [
            "False\n",
            "True\n",
            "True\n",
            "<class 'int'>\n",
            "<class 'str'>\n",
            "<class 'float'>\n"
          ]
        }
      ]
    },
    {
      "cell_type": "markdown",
      "source": [],
      "metadata": {
        "id": "eKpsFgr7uexa"
      }
    }
  ]
}