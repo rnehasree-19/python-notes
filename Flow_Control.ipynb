{
  "cells": [
    {
      "cell_type": "markdown",
      "id": "bfb783e8",
      "metadata": {
        "id": "bfb783e8"
      },
      "source": [
        "# Chapter 2: Flow Control\n",
        "This chapter covers the logic and structure of decision-making and repetition in Python.\n"
      ]
    },
    {
      "cell_type": "markdown",
      "id": "735ded4f",
      "metadata": {
        "id": "735ded4f"
      },
      "source": [
        "## Boolean Values\n",
        "\n",
        "**Definition**:  \n",
        "Boolean values represent one of two possible states: `True` or `False`.\n",
        "\n",
        "**Syntax**:\n",
        "```python\n",
        "True   #1\n",
        "False  #0\n"
      ]
    },
    {
      "cell_type": "code",
      "execution_count": 1,
      "id": "bd32901d",
      "metadata": {
        "colab": {
          "base_uri": "https://localhost:8080/"
        },
        "id": "bd32901d",
        "outputId": "99d4e17c-6abb-426a-995c-5505d99fd59f"
      },
      "outputs": [
        {
          "output_type": "stream",
          "name": "stdout",
          "text": [
            "True\n"
          ]
        }
      ],
      "source": [
        "spam = True\n",
        "print(spam)\n",
        "# Note: 'true' and 'false' (lowercase) are not valid.\n"
      ]
    },
    {
      "cell_type": "code",
      "execution_count": 2,
      "id": "bf437206",
      "metadata": {
        "colab": {
          "base_uri": "https://localhost:8080/",
          "height": 141
        },
        "id": "bf437206",
        "outputId": "905fff6d-d009-431d-dc27-92b720be9d0f"
      },
      "outputs": [
        {
          "output_type": "error",
          "ename": "NameError",
          "evalue": "name 'true' is not defined",
          "traceback": [
            "\u001b[0;31m---------------------------------------------------------------------------\u001b[0m",
            "\u001b[0;31mNameError\u001b[0m                                 Traceback (most recent call last)",
            "\u001b[0;32m/tmp/ipython-input-3804032236.py\u001b[0m in \u001b[0;36m<cell line: 0>\u001b[0;34m()\u001b[0m\n\u001b[0;32m----> 1\u001b[0;31m \u001b[0mtrue\u001b[0m  \u001b[0;31m# This will cause an error because 'true' is not defined\u001b[0m\u001b[0;34m\u001b[0m\u001b[0;34m\u001b[0m\u001b[0m\n\u001b[0m",
            "\u001b[0;31mNameError\u001b[0m: name 'true' is not defined"
          ]
        }
      ],
      "source": [
        "true  # This will cause an error because 'true' is not defined"
      ]
    },
    {
      "cell_type": "code",
      "execution_count": 3,
      "id": "c515d1a5",
      "metadata": {
        "colab": {
          "base_uri": "https://localhost:8080/",
          "height": 106
        },
        "id": "c515d1a5",
        "outputId": "b0e049a9-05b9-41fd-c02d-f757f421e19b"
      },
      "outputs": [
        {
          "output_type": "error",
          "ename": "SyntaxError",
          "evalue": "cannot assign to True (ipython-input-3736863785.py, line 1)",
          "traceback": [
            "\u001b[0;36m  File \u001b[0;32m\"/tmp/ipython-input-3736863785.py\"\u001b[0;36m, line \u001b[0;32m1\u001b[0m\n\u001b[0;31m    True = 2 + 2  # SyntaxError: cannot assign to True because it's a keyword\u001b[0m\n\u001b[0m    ^\u001b[0m\n\u001b[0;31mSyntaxError\u001b[0m\u001b[0;31m:\u001b[0m cannot assign to True\n"
          ]
        }
      ],
      "source": [
        "True = 2 + 2  # SyntaxError: cannot assign to True because it's a keyword"
      ]
    },
    {
      "cell_type": "markdown",
      "id": "4a3aeb76",
      "metadata": {
        "id": "4a3aeb76"
      },
      "source": [
        "### Comparison Operators\n",
        "\n",
        "| Operator | Meaning                  |\n",
        "|----------|--------------------------|\n",
        "| ==       | Equal to                 |\n",
        "| !=       | Not equal to             |\n",
        "| <        | Less than                |\n",
        "| >        | Greater than             |\n",
        "| <=       | Less than or equal to    |\n",
        "| >=       | Greater than or equal to |\n"
      ]
    },
    {
      "cell_type": "code",
      "execution_count": 4,
      "id": "f0608313",
      "metadata": {
        "colab": {
          "base_uri": "https://localhost:8080/"
        },
        "id": "f0608313",
        "outputId": "b1f6b917-766a-4284-c350-23deec04b9c2"
      },
      "outputs": [
        {
          "output_type": "stream",
          "name": "stdout",
          "text": [
            "True\n",
            "False\n",
            "True\n",
            "False\n",
            "True\n",
            "False\n",
            "True\n",
            "True\n",
            "True\n",
            "True\n",
            "False\n"
          ]
        }
      ],
      "source": [
        "print(42 == 42)\n",
        "print(42 == 99)\n",
        "print(2 != 3)\n",
        "print(2 != 2)\n",
        "print('hello' == 'hello')\n",
        "print('hello' == 'Hello')\n",
        "print('dog' != 'cat')\n",
        "print(True == True)\n",
        "print(True != False)\n",
        "print(42 == 42.0)\n",
        "print(42 == '42')"
      ]
    },
    {
      "cell_type": "code",
      "execution_count": 5,
      "id": "4b351eb6",
      "metadata": {
        "colab": {
          "base_uri": "https://localhost:8080/"
        },
        "id": "4b351eb6",
        "outputId": "1df13ca3-8dc6-48ef-cf9b-6c46682be9a5"
      },
      "outputs": [
        {
          "output_type": "stream",
          "name": "stdout",
          "text": [
            "True\n",
            "False\n",
            "True\n",
            "True\n"
          ]
        }
      ],
      "source": [
        "print(42 < 100)\n",
        "print(42 > 100)\n",
        "eggCount = 42\n",
        "print(eggCount <= 42)\n",
        "myAge = 29\n",
        "print(myAge >= 10)"
      ]
    },
    {
      "cell_type": "markdown",
      "id": "a638903b",
      "metadata": {
        "id": "a638903b"
      },
      "source": [
        "## Boolean Operators: and, or, not\n"
      ]
    },
    {
      "cell_type": "markdown",
      "id": "ce61b8ad",
      "metadata": {
        "id": "ce61b8ad"
      },
      "source": [
        "**Boolean operators** combine Boolean values to evaluate complex expressions.\n",
        "\n",
        "| Operator | Meaning       |\n",
        "|----------|---------------|\n",
        "| `and`    | True if both are True |\n",
        "| `or`     | True if at least one is True |\n",
        "| `not`    | Inverts True/False |"
      ]
    },
    {
      "cell_type": "code",
      "execution_count": 6,
      "id": "d7facdf1",
      "metadata": {
        "colab": {
          "base_uri": "https://localhost:8080/"
        },
        "id": "d7facdf1",
        "outputId": "533ceabe-77dc-4165-f15e-4585ccd80226"
      },
      "outputs": [
        {
          "output_type": "stream",
          "name": "stdout",
          "text": [
            "True\n",
            "False\n",
            "False\n",
            "True\n",
            "False\n",
            "False\n",
            "True\n"
          ]
        }
      ],
      "source": [
        "print(True and True)\n",
        "print(True and False)\n",
        "print(False and False)\n",
        "print(True or False)\n",
        "print(False or False)\n",
        "print(not True)\n",
        "print(not False)"
      ]
    },
    {
      "cell_type": "code",
      "execution_count": 7,
      "id": "047affba",
      "metadata": {
        "colab": {
          "base_uri": "https://localhost:8080/"
        },
        "id": "047affba",
        "outputId": "47a0fe4f-6509-41bf-8c15-229e073da088"
      },
      "outputs": [
        {
          "output_type": "stream",
          "name": "stdout",
          "text": [
            "True\n",
            "False\n",
            "True\n"
          ]
        }
      ],
      "source": [
        "print(1 < 2 and 2 < 3)\n",
        "print(1 < 2 and 2 > 3)\n",
        "print(1 < 2 or 2 > 3)"
      ]
    },
    {
      "cell_type": "markdown",
      "id": "6f084dec",
      "metadata": {
        "id": "6f084dec"
      },
      "source": [
        "###Mixing Boolean and Comparison Operators"
      ]
    },
    {
      "cell_type": "code",
      "execution_count": 8,
      "id": "6b500cd6",
      "metadata": {
        "colab": {
          "base_uri": "https://localhost:8080/"
        },
        "id": "6b500cd6",
        "outputId": "5c4ff9ad-3dcd-486b-fc4f-e549e98e8023"
      },
      "outputs": [
        {
          "output_type": "stream",
          "name": "stdout",
          "text": [
            "True\n",
            "False\n",
            "True\n"
          ]
        }
      ],
      "source": [
        "print((4 < 5) and (5 < 6))\n",
        "print((4 < 5) and (9 < 6))\n",
        "print((1 == 2) or (2 == 2))"
      ]
    },
    {
      "cell_type": "markdown",
      "id": "360f2fee",
      "metadata": {
        "id": "360f2fee"
      },
      "source": [
        "###Truthy and Falsy Values"
      ]
    },
    {
      "cell_type": "markdown",
      "id": "1d83d9cb",
      "metadata": {
        "id": "1d83d9cb"
      },
      "source": [
        "- Some values always evaluate to False in Boolean contexts: `0`, `0.0`, `''`, `[]`, `{}`, `None`\n",
        "- Everything else is considered True (truthy)"
      ]
    },
    {
      "cell_type": "code",
      "execution_count": 9,
      "id": "1283a01b",
      "metadata": {
        "colab": {
          "base_uri": "https://localhost:8080/"
        },
        "id": "1283a01b",
        "outputId": "fe97638d-72b9-455a-f66b-bc8eae8ef0db"
      },
      "outputs": [
        {
          "output_type": "stream",
          "name": "stdout",
          "text": [
            "False\n",
            "False\n",
            "False\n",
            "True\n",
            "True\n"
          ]
        }
      ],
      "source": [
        "print(bool(0))\n",
        "print(bool(''))\n",
        "print(bool([]))\n",
        "print(bool('Hello'))\n",
        "print(bool(42))"
      ]
    },
    {
      "cell_type": "markdown",
      "id": "83a568d2",
      "metadata": {
        "id": "83a568d2"
      },
      "source": [
        "###`==` vs `is` Operator"
      ]
    },
    {
      "cell_type": "markdown",
      "id": "a00b1a88",
      "metadata": {
        "id": "a00b1a88"
      },
      "source": [
        "italicized text- `==` checks **value equality**\n",
        "- `is` checks **object identity** (whether they are the same object in memory)"
      ]
    },
    {
      "cell_type": "code",
      "execution_count": 10,
      "id": "66b4ee2b",
      "metadata": {
        "colab": {
          "base_uri": "https://localhost:8080/"
        },
        "id": "66b4ee2b",
        "outputId": "efa173f7-1cd2-433f-ecd6-08033bc283d9"
      },
      "outputs": [
        {
          "output_type": "stream",
          "name": "stdout",
          "text": [
            "True\n",
            "False\n",
            "True\n"
          ]
        }
      ],
      "source": [
        "a = [1, 2, 3]\n",
        "b = [1, 2, 3]\n",
        "c = a\n",
        "\n",
        "print(a == b)  # True\n",
        "print(a is b)  # False\n",
        "print(a is c)  # True"
      ]
    },
    {
      "cell_type": "markdown",
      "source": [
        "\n",
        "## if, elif, else\n",
        "\n",
        "**Definition**:  \n",
        "Used to run different blocks of code based on conditions.\n",
        "\n",
        "**Syntax**:\n",
        "```python\n",
        "if condition:\n",
        "    # code\n",
        "elif condition:\n",
        "    # code\n",
        "else:\n",
        "    # code\n"
      ],
      "metadata": {
        "id": "hW6bsnA4bU5f"
      },
      "id": "hW6bsnA4bU5f"
    },
    {
      "cell_type": "markdown",
      "id": "0142b26a",
      "metadata": {
        "id": "0142b26a"
      },
      "source": [
        "###The `if` Statement"
      ]
    },
    {
      "cell_type": "code",
      "execution_count": null,
      "id": "3b37ff43",
      "metadata": {
        "id": "3b37ff43"
      },
      "outputs": [],
      "source": [
        "name = 'Alice'\n",
        "if name == 'Alice':\n",
        "    print('Hi, Alice.')"
      ]
    },
    {
      "cell_type": "markdown",
      "id": "735de2b5",
      "metadata": {
        "id": "735de2b5"
      },
      "source": [
        "###The `else` Statement"
      ]
    },
    {
      "cell_type": "code",
      "execution_count": null,
      "id": "f9183b2c",
      "metadata": {
        "id": "f9183b2c"
      },
      "outputs": [],
      "source": [
        "name = 'Bob'\n",
        "if name == 'Alice':\n",
        "    print('Hi, Alice.')\n",
        "else:\n",
        "    print('Hello, stranger.')"
      ]
    },
    {
      "cell_type": "markdown",
      "id": "0acd5de5",
      "metadata": {
        "id": "0acd5de5"
      },
      "source": [
        "###The `elif` Statement"
      ]
    },
    {
      "cell_type": "code",
      "execution_count": null,
      "id": "b42f2b47",
      "metadata": {
        "id": "b42f2b47"
      },
      "outputs": [],
      "source": [
        "name = 'Bob'\n",
        "age = 5\n",
        "if name == 'Alice':\n",
        "    print('Hi, Alice.')\n",
        "elif age < 12:\n",
        "    print('You are not Alice, kiddo.')\n",
        "else:\n",
        "    print('You are neither Alice nor a little kid.')"
      ]
    },
    {
      "cell_type": "markdown",
      "source": [
        "\n",
        "## Nested if\n",
        "\n",
        "**Definition**:  \n",
        "Placing one `if` statement inside another.\n",
        "\n",
        "**Syntax**:\n",
        "```python\n",
        "if condition:\n",
        "    if condition:\n",
        "        # code\n"
      ],
      "metadata": {
        "id": "tulzlt5VbZWv"
      },
      "id": "tulzlt5VbZWv"
    },
    {
      "cell_type": "markdown",
      "id": "6609ab33",
      "metadata": {
        "id": "6609ab33"
      },
      "source": [
        "\n",
        "## while Loop\n",
        "\n",
        "**Definition**:  \n",
        "Repeats code while a condition is True.\n",
        "\n",
        "**Syntax**:\n",
        "```python\n",
        "while condition:\n",
        "    # code\n"
      ]
    },
    {
      "cell_type": "code",
      "execution_count": null,
      "id": "670d5597",
      "metadata": {
        "id": "670d5597"
      },
      "outputs": [],
      "source": [
        "spam = 0\n",
        "while spam < 5:\n",
        "    print('Hello, world.')\n",
        "    spam += 1"
      ]
    },
    {
      "cell_type": "markdown",
      "source": [
        "\n",
        "## break, continue, pass\n",
        "\n",
        "**Definition**:\n",
        "- `break`: exit the loop\n",
        "- `continue`: skip current iteration\n",
        "- `pass`: do nothing (placeholder)\n",
        "\n",
        "**Example**:\n",
        "```python\n",
        "# break\n",
        "for i in range(5):\n",
        "    if i == 3:\n",
        "        break\n",
        "    print(i)\n",
        "\n",
        "# continue\n",
        "for i in range(5):\n",
        "    if i == 3:\n",
        "        continue\n",
        "    print(i)\n",
        "\n",
        "# pass\n",
        "for i in range(5):\n",
        "    if i == 3:\n",
        "        pass\n",
        "    print(i)\n"
      ],
      "metadata": {
        "id": "frazCeOKbqNe"
      },
      "id": "frazCeOKbqNe"
    },
    {
      "cell_type": "markdown",
      "id": "06c6380e",
      "metadata": {
        "id": "06c6380e"
      },
      "source": [
        "### `break` and `continue`"
      ]
    },
    {
      "cell_type": "code",
      "execution_count": null,
      "id": "68c2d7c8",
      "metadata": {
        "id": "68c2d7c8"
      },
      "outputs": [],
      "source": [
        "while True:\n",
        "    name = input('Enter your name: ')\n",
        "    if name == 'your name':\n",
        "        break\n",
        "print('Thank you!')"
      ]
    },
    {
      "cell_type": "code",
      "execution_count": null,
      "id": "0aa1e2be",
      "metadata": {
        "id": "0aa1e2be"
      },
      "outputs": [],
      "source": [
        "spam = 0\n",
        "while spam < 5:\n",
        "    spam += 1\n",
        "    if spam == 3:\n",
        "        continue\n",
        "    print('spam is', spam)"
      ]
    },
    {
      "cell_type": "markdown",
      "id": "37840007",
      "metadata": {
        "id": "37840007"
      },
      "source": [
        "### The `for` Loop and `range()`"
      ]
    },
    {
      "cell_type": "markdown",
      "source": [
        "\n",
        "\n",
        "**Definition**:  \n",
        "Used to iterate over sequences. `range()` generates a sequence of numbers.\n",
        "\n",
        "**Syntax**:\n",
        "```python\n",
        "for i in range(start, stop, step):\n",
        "    # code\n"
      ],
      "metadata": {
        "id": "hp1QIKeGb4Ks"
      },
      "id": "hp1QIKeGb4Ks"
    },
    {
      "cell_type": "code",
      "execution_count": null,
      "id": "032d351c",
      "metadata": {
        "id": "032d351c"
      },
      "outputs": [],
      "source": [
        "for i in range(5):\n",
        "    print('Hello world (' + str(i) + ')')"
      ]
    },
    {
      "cell_type": "code",
      "execution_count": null,
      "id": "de6fa8bd",
      "metadata": {
        "id": "de6fa8bd"
      },
      "outputs": [],
      "source": [
        "print(list(range(0, 10, 2)))  # Even numbers\n",
        "print(list(range(5, -1, -1)))  # Countdown"
      ]
    },
    {
      "cell_type": "markdown",
      "source": [
        "\n",
        "## Nested Loops\n",
        "\n",
        "**Definition**:  \n",
        "Loops inside loops to work on multiple dimensions.\n",
        "\n",
        "**Syntax**:\n",
        "```python\n",
        "for i in range(x):\n",
        "    for j in range(y):\n",
        "        # code\n"
      ],
      "metadata": {
        "id": "k6Sppe2qb-dh"
      },
      "id": "k6Sppe2qb-dh"
    },
    {
      "cell_type": "markdown",
      "source": [
        "\n",
        "\n",
        "## else Clause with Loops\n",
        "\n",
        "**Definition**:  \n",
        "`else` runs after a loop only if not interrupted by `break`.\n",
        "\n",
        "**Syntax**:\n",
        "```python\n",
        "for item in iterable:\n",
        "    # code\n",
        "else:\n",
        "    # only runs if no break\n"
      ],
      "metadata": {
        "id": "9gnvi_fabxDs"
      },
      "id": "9gnvi_fabxDs"
    },
    {
      "cell_type": "code",
      "source": [
        "for i in range(3):\n",
        "    print(i)\n",
        "else:\n",
        "    print(\"Completed\")\n",
        "\n",
        "for i in range(3):\n",
        "    if i == 1:\n",
        "        break\n",
        "    print(i)\n",
        "else:\n",
        "    print(\"This won't run\")\n"
      ],
      "metadata": {
        "id": "aF1p7Gxqb0Tx"
      },
      "id": "aF1p7Gxqb0Tx",
      "execution_count": null,
      "outputs": []
    },
    {
      "cell_type": "markdown",
      "id": "cd878041",
      "metadata": {
        "id": "cd878041"
      },
      "source": [
        "### Importing Modules"
      ]
    },
    {
      "cell_type": "code",
      "execution_count": null,
      "id": "b867862a",
      "metadata": {
        "id": "b867862a"
      },
      "outputs": [],
      "source": [
        "import random\n",
        "for i in range(5):\n",
        "    print(random.randint(1, 10))"
      ]
    },
    {
      "cell_type": "markdown",
      "source": [
        "\n",
        "## sys.exit()\n",
        "\n",
        "**Definition**:  \n",
        "Exits the program immediately.\n",
        "\n",
        "**Syntax**:\n",
        "```python\n",
        "import sys\n",
        "sys.exit()\n"
      ],
      "metadata": {
        "id": "ADDOuksscDsv"
      },
      "id": "ADDOuksscDsv"
    },
    {
      "cell_type": "code",
      "source": [
        "import sys\n",
        "while True:\n",
        "    user_input = input(\"Type exit to quit: \")\n",
        "    if user_input == 'exit':\n",
        "        sys.exit()\n",
        "    print(\"You typed:\", user_input)\n"
      ],
      "metadata": {
        "id": "7m--wc_fcHj9"
      },
      "id": "7m--wc_fcHj9",
      "execution_count": null,
      "outputs": []
    },
    {
      "cell_type": "markdown",
      "id": "3f8e19c4",
      "metadata": {
        "id": "3f8e19c4"
      },
      "source": [
        "### Simulating a do-while Loop"
      ]
    },
    {
      "cell_type": "code",
      "execution_count": null,
      "id": "63c9e76c",
      "metadata": {
        "id": "63c9e76c"
      },
      "outputs": [],
      "source": [
        "while True:\n",
        "    name = input('Who are you? ')\n",
        "    if name != 'Joe':\n",
        "        continue\n",
        "    password = input('Hello Joe. What is the password? (It is a fish.) ')\n",
        "    if password == 'swordfish':\n",
        "        break\n",
        "print('Access granted.')"
      ]
    }
  ],
  "metadata": {
    "colab": {
      "provenance": []
    },
    "language_info": {
      "name": "python"
    },
    "kernelspec": {
      "name": "python3",
      "display_name": "Python 3"
    }
  },
  "nbformat": 4,
  "nbformat_minor": 5
}