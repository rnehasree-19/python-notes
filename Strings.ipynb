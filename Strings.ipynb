{
  "nbformat": 4,
  "nbformat_minor": 0,
  "metadata": {
    "colab": {
      "provenance": []
    },
    "kernelspec": {
      "name": "python3",
      "display_name": "Python 3"
    },
    "language_info": {
      "name": "python"
    }
  },
  "cells": [
    {
      "cell_type": "markdown",
      "source": [
        "# Strings in Python\n",
        "\n",
        "## Definition\n",
        "A string is a sequence of characters enclosed in single quotes (`'`), double quotes (`\"`), or triple quotes (`'''` or `\"\"\"`).\n",
        "\n",
        "Strings are **immutable**, meaning their contents cannot be changed after creation.\n",
        "\n",
        "## Syntax\n",
        "```python\n",
        "# Single quotes\n",
        "'Hello'\n",
        "\n",
        "# Double quotes\n",
        "\"Hello\"\n",
        "\n",
        "# Triple quotes (for multi-line strings)\n",
        "'''Hello\n",
        "World'''\n"
      ],
      "metadata": {
        "id": "jcSYIJ7XEgqj"
      }
    },
    {
      "cell_type": "code",
      "execution_count": 1,
      "metadata": {
        "colab": {
          "base_uri": "https://localhost:8080/"
        },
        "id": "CVab-hiQEb7U",
        "outputId": "59d2fd35-1852-40a2-d076-3e9ab14ab081"
      },
      "outputs": [
        {
          "output_type": "stream",
          "name": "stdout",
          "text": [
            "Hello\n",
            "Python\n",
            "This is\n",
            "a multi-line\n",
            "string\n"
          ]
        }
      ],
      "source": [
        "# Creating strings\n",
        "str1 = 'Hello'\n",
        "str2 = \"Python\"\n",
        "str3 = '''This is\n",
        "a multi-line\n",
        "string'''\n",
        "\n",
        "print(str1)\n",
        "print(str2)\n",
        "print(str3)\n"
      ]
    },
    {
      "cell_type": "markdown",
      "source": [
        "## String Indexing and Slicing\n",
        "\n",
        "- Strings are indexed starting from `0`.\n",
        "- Negative indexing starts from `-1` (last character).\n",
        "- Slicing allows extracting a part of the string.\n",
        "\n",
        "**Syntax:**\n",
        "```python\n",
        "string[start:end:step]\n"
      ],
      "metadata": {
        "id": "qOVN08nMEoxA"
      }
    },
    {
      "cell_type": "code",
      "source": [
        "# Indexing\n",
        "text = \"Python\"\n",
        "print(text[0])   # First character\n",
        "print(text[-1])  # Last character\n",
        "\n",
        "# Slicing\n",
        "print(text[0:4])     # 'Pyth'\n",
        "print(text[:3])      # 'Pyt'\n",
        "print(text[2:])      # 'thon'\n",
        "print(text[::2])     # 'Pto'\n"
      ],
      "metadata": {
        "colab": {
          "base_uri": "https://localhost:8080/"
        },
        "id": "RtaRhaOUEqhz",
        "outputId": "acc8e075-54d8-4a53-f5fe-c26a1889f177"
      },
      "execution_count": 2,
      "outputs": [
        {
          "output_type": "stream",
          "name": "stdout",
          "text": [
            "P\n",
            "n\n",
            "Pyth\n",
            "Pyt\n",
            "thon\n",
            "Pto\n"
          ]
        }
      ]
    },
    {
      "cell_type": "markdown",
      "source": [
        "## String Concatenation and Repetition\n",
        "\n",
        "- **Concatenation (`+`)** → Joins two or more strings.\n",
        "- **Repetition (`*`)** → Repeats a string multiple times.\n"
      ],
      "metadata": {
        "id": "8pzK_RSEEtQo"
      }
    },
    {
      "cell_type": "code",
      "source": [
        "# Concatenation\n",
        "str1 = \"Hello\"\n",
        "str2 = \"World\"\n",
        "print(str1 + \" \" + str2)\n",
        "\n",
        "# Repetition\n",
        "print(\"Hi! \" * 3)\n"
      ],
      "metadata": {
        "colab": {
          "base_uri": "https://localhost:8080/"
        },
        "id": "gbfuECk2Eu77",
        "outputId": "e08cf5b2-7c29-44f5-bfc5-78ff5d05cb74"
      },
      "execution_count": 3,
      "outputs": [
        {
          "output_type": "stream",
          "name": "stdout",
          "text": [
            "Hello World\n",
            "Hi! Hi! Hi! \n"
          ]
        }
      ]
    },
    {
      "cell_type": "markdown",
      "source": [
        "## Escape Characters\n",
        "\n",
        "Escape characters let you insert special characters inside strings.\n",
        "\n",
        "| Code | Meaning |\n",
        "|------|---------|\n",
        "| `\\\\n` | New line |\n",
        "| `\\\\t` | Tab |\n",
        "| `\\\\\\\\` | Backslash |\n",
        "| `\\\\'` | Single quote |\n",
        "| `\\\\\"` | Double quote |\n",
        "\n",
        "Example:\n",
        "```python\n",
        "print(\"Hello\\\\nWorld\")\n"
      ],
      "metadata": {
        "id": "x-o7JUIQE0Bs"
      }
    },
    {
      "cell_type": "code",
      "source": [
        "print(\"Hello\\nWorld\")\n",
        "print(\"Hello\\tWorld\")\n",
        "print(\"He said: \\\"Python is fun!\\\"\")\n"
      ],
      "metadata": {
        "colab": {
          "base_uri": "https://localhost:8080/"
        },
        "id": "bzBJQXDPE19s",
        "outputId": "049a7c1f-7e2d-425b-b7fd-5d246bbedb66"
      },
      "execution_count": 4,
      "outputs": [
        {
          "output_type": "stream",
          "name": "stdout",
          "text": [
            "Hello\n",
            "World\n",
            "Hello\tWorld\n",
            "He said: \"Python is fun!\"\n"
          ]
        }
      ]
    },
    {
      "cell_type": "markdown",
      "source": [
        "## String Formatting\n",
        "\n",
        "Three ways to format strings:\n",
        "1. **f-strings** (Python 3.6+)\n",
        "```python\n",
        "name = \"Alice\"\n",
        "print(f\"Hello, {name}!\")\n"
      ],
      "metadata": {
        "id": "1u4n0ucgE4c5"
      }
    },
    {
      "cell_type": "code",
      "source": [
        "name=\"Alice\"\n",
        "print(\"Hello, {}\".format(name))"
      ],
      "metadata": {
        "colab": {
          "base_uri": "https://localhost:8080/"
        },
        "id": "PIV0pgjME7QZ",
        "outputId": "35218139-73d8-4fda-aa5c-977de41824e9"
      },
      "execution_count": 6,
      "outputs": [
        {
          "output_type": "stream",
          "name": "stdout",
          "text": [
            "Hello, Alice\n"
          ]
        }
      ]
    },
    {
      "cell_type": "code",
      "source": [
        "print(\"Hello, %s\" % name)"
      ],
      "metadata": {
        "colab": {
          "base_uri": "https://localhost:8080/"
        },
        "id": "55YcSzRQE9AC",
        "outputId": "c983ced2-3bbf-430f-be80-b5b6da5575a1"
      },
      "execution_count": 7,
      "outputs": [
        {
          "output_type": "stream",
          "name": "stdout",
          "text": [
            "Hello, Alice\n"
          ]
        }
      ]
    },
    {
      "cell_type": "code",
      "source": [
        "name = \"Alice\"\n",
        "age = 20\n",
        "\n",
        "# f-string\n",
        "print(f\"My name is {name} and I am {age} years old.\")\n",
        "\n",
        "# format()\n",
        "print(\"My name is {} and I am {} years old.\".format(name, age))\n",
        "\n",
        "# % formatting\n",
        "print(\"My name is %s and I am %d years old.\" % (name, age))\n"
      ],
      "metadata": {
        "colab": {
          "base_uri": "https://localhost:8080/"
        },
        "id": "-e-QkT1eFAov",
        "outputId": "7aad9593-bfe4-4836-820a-ec7323683560"
      },
      "execution_count": 8,
      "outputs": [
        {
          "output_type": "stream",
          "name": "stdout",
          "text": [
            "My name is Alice and I am 20 years old.\n",
            "My name is Alice and I am 20 years old.\n",
            "My name is Alice and I am 20 years old.\n"
          ]
        }
      ]
    },
    {
      "cell_type": "markdown",
      "source": [
        "## Useful Notes:\n",
        "- Strings are immutable — modifying a string creates a new one.\n",
        "- Use triple quotes for multi-line text.\n",
        "- Use raw strings (`r\"...\"`) to avoid escape sequences being processed.\n",
        "\n",
        "Example:\n",
        "```python\n",
        "print(r\"C:\\new_folder\")\n"
      ],
      "metadata": {
        "id": "nMLsMLxeFDzD"
      }
    },
    {
      "cell_type": "markdown",
      "source": [
        "# String Methods in Python\n",
        "\n",
        "Python provides many built-in string methods to manipulate and analyze text data.\n",
        "\n",
        "---\n",
        "\n",
        "##  String Methods Quick Reference Table\n",
        "\n",
        "| Method | Purpose | Syntax Example |\n",
        "|--------|---------|----------------|\n",
        "| `upper()` | Convert all letters to uppercase | `s.upper()` |\n",
        "| `lower()` | Convert all letters to lowercase | `s.lower()` |\n",
        "| `capitalize()` | Capitalize first letter | `s.capitalize()` |\n",
        "| `title()` | Capitalize first letter of each word | `s.title()` |\n",
        "| `swapcase()` | Swap upper/lower case | `s.swapcase()` |\n",
        "| `strip()` | Remove leading & trailing spaces | `s.strip()` |\n",
        "| `lstrip()` | Remove leading spaces | `s.lstrip()` |\n",
        "| `rstrip()` | Remove trailing spaces | `s.rstrip()` |\n",
        "| `find(sub)` | First occurrence index, -1 if not found | `s.find(\"abc\")` |\n",
        "| `rfind(sub)` | Last occurrence index | `s.rfind(\"abc\")` |\n",
        "| `index(sub)` | Like find() but error if not found | `s.index(\"abc\")` |\n",
        "| `count(sub)` | Count occurrences of substring | `s.count(\"abc\")` |\n",
        "| `isupper()` | Check if all letters are uppercase | `s.isupper()` |\n",
        "| `islower()` | Check if all letters are lowercase | `s.islower()` |\n",
        "| `isdigit()` | True if all characters are digits | `s.isdigit()` |\n",
        "| `isnumeric()` | True if numeric (digits + others) | `s.isnumeric()` |\n",
        "| `isalnum()` | True if letters or numbers only | `s.isalnum()` |\n",
        "| `isalpha()` | True if letters only | `s.isalpha()` |\n",
        "| `isspace()` | True if only whitespace | `s.isspace()` |\n",
        "| `istitle()` | True if title case | `s.istitle()` |\n",
        "| `replace(old, new)` | Replace substring | `s.replace(\"a\",\"b\")` |\n",
        "| `split(sep)` | Split into list | `s.split(\",\")` |\n",
        "| `join(iterable)` | Join list into string | `\",\".join(list)` |\n",
        "| `center(w, f)` | Center align | `s.center(20, \"-\")` |\n",
        "| `ljust(w, f)` | Left align | `s.ljust(20, \"*\")` |\n",
        "| `rjust(w, f)` | Right align | `s.rjust(20, \"*\")` |\n",
        "| `zfill(w)` | Pad with zeros | `s.zfill(10)` |\n",
        "| `startswith(sub)` | Check start | `s.startswith(\"abc\")` |\n",
        "| `endswith(sub)` | Check end | `s.endswith(\"xyz\")` |\n",
        "| `encode()` | Convert to bytes | `s.encode()` |\n",
        "| `decode()` | Convert bytes to string | `b.decode()` |\n",
        "| `format()` | Format string | `\"{}\".format(val)` |\n",
        "| `f-string` | Inline formatting | `f\"{val}\"` |\n"
      ],
      "metadata": {
        "id": "kwBqaV1WGcvp"
      }
    },
    {
      "cell_type": "code",
      "source": [
        "# String Methods in Python\n",
        "\n",
        "text = \"  Hello Python World!  \"\n",
        "text2 = \"python programming\"\n",
        "text3 = \"HELLO\"\n",
        "text4 = \"12345\"\n",
        "text5 = \"Hello123\"\n",
        "text6 = \"apple,banana,cherry\"\n",
        "text7 = \"hello world hello\"\n",
        "\n",
        "# ---------------------------\n",
        "# Case Conversion Methods\n",
        "# ---------------------------\n",
        "\n",
        "print(text.upper())      # .upper() -> Converts all characters to uppercase\n",
        "print(text.lower())      # .lower() -> Converts all characters to lowercase\n",
        "print(text.capitalize()) # .capitalize() -> Capitalizes first letter, rest lowercase\n",
        "print(text.title())      # .title() -> Capitalizes first letter of each word\n",
        "print(text.swapcase())   # .swapcase() -> Swaps lowercase to uppercase and vice versa\n",
        "\n",
        "# ---------------------------\n",
        "# Whitespace Removal\n",
        "# ---------------------------\n",
        "\n",
        "print(text.strip())  # .strip() -> Removes leading and trailing spaces\n",
        "print(text.lstrip()) # .lstrip() -> Removes leading spaces\n",
        "print(text.rstrip()) # .rstrip() -> Removes trailing spaces\n",
        "\n",
        "# ---------------------------\n",
        "# Search & Find\n",
        "# ---------------------------\n",
        "\n",
        "print(text7.find(\"world\"))  # .find(sub) -> Returns index of first occurrence, -1 if not found\n",
        "print(text7.rfind(\"hello\")) # .rfind(sub) -> Last occurrence index\n",
        "print(text7.index(\"world\")) # .index(sub) -> Like find() but raises error if not found\n",
        "print(text7.count(\"hello\")) # .count(sub) -> Counts occurrences of substring\n",
        "\n",
        "# ---------------------------\n",
        "# Check String Content\n",
        "# ---------------------------\n",
        "\n",
        "print(text3.isupper()) # .isupper() -> True if all chars uppercase\n",
        "print(text2.islower()) # .islower() -> True if all chars lowercase\n",
        "print(text4.isdigit()) # .isdigit() -> True if all chars are digits\n",
        "print(text4.isnumeric()) # .isnumeric() -> True if all numeric chars\n",
        "print(text5.isalnum()) # .isalnum() -> True if all chars are alphanumeric (letters+numbers)\n",
        "print(text2.isalpha()) # .isalpha() -> True if all chars are letters only\n",
        "print(\"   \".isspace()) # .isspace() -> True if string contains only whitespace\n",
        "print(text.istitle())  # .istitle() -> True if title case\n",
        "\n",
        "# ---------------------------\n",
        "# Replace & Split\n",
        "# ---------------------------\n",
        "\n",
        "print(text7.replace(\"hello\", \"hi\")) # .replace(old,new) -> Replace all occurrences\n",
        "print(text6.split(\",\"))             # .split(sep) -> Splits string into list\n",
        "print(text2.split())                # Default split by whitespace\n",
        "print(\"-\".join([\"apple\",\"banana\",\"cherry\"])) # .join(iterable) -> Join elements with separator\n",
        "\n",
        "# ---------------------------\n",
        "# Alignment\n",
        "# ---------------------------\n",
        "\n",
        "print(text2.center(30, \"-\")) # .center(width, fill) -> Center align\n",
        "print(text2.ljust(30, \"*\"))  # .ljust(width, fill) -> Left align\n",
        "print(text2.rjust(30, \"*\"))  # .rjust(width, fill) -> Right align\n",
        "print(text2.zfill(30))       # .zfill(width) -> Pads with zeros\n",
        "\n",
        "# ---------------------------\n",
        "# Startswith / Endswith\n",
        "# ---------------------------\n",
        "\n",
        "print(text2.startswith(\"python\")) # True if starts with substring\n",
        "print(text2.endswith(\"ing\"))      # True if ends with substring\n",
        "\n",
        "# ---------------------------\n",
        "# Encoding / Decoding\n",
        "# ---------------------------\n",
        "\n",
        "print(text2.encode()) # .encode() -> Encodes string to bytes\n",
        "print(b\"python\".decode()) # .decode() -> Decodes bytes to string\n",
        "\n",
        "# ---------------------------\n",
        "# Formatting Strings\n",
        "# ---------------------------\n",
        "\n",
        "print(\"Hello, {}\".format(\"Neha\")) # .format() -> Inserts values into placeholders\n",
        "print(f\"2 + 2 = {2+2}\")           # f-string formatting\n",
        "print(\"Name: {name}, Age: {age}\".format(name=\"Neha\", age=20))\n"
      ],
      "metadata": {
        "colab": {
          "base_uri": "https://localhost:8080/"
        },
        "id": "HJj8Pn4rGNto",
        "outputId": "f241bdc9-c258-40d1-9757-24c6ca8e708a"
      },
      "execution_count": 10,
      "outputs": [
        {
          "output_type": "stream",
          "name": "stdout",
          "text": [
            "  HELLO PYTHON WORLD!  \n",
            "  hello python world!  \n",
            "  hello python world!  \n",
            "  Hello Python World!  \n",
            "  hELLO pYTHON wORLD!  \n",
            "Hello Python World!\n",
            "Hello Python World!  \n",
            "  Hello Python World!\n",
            "6\n",
            "12\n",
            "6\n",
            "2\n",
            "True\n",
            "True\n",
            "True\n",
            "True\n",
            "True\n",
            "False\n",
            "True\n",
            "True\n",
            "hi world hi\n",
            "['apple', 'banana', 'cherry']\n",
            "['python', 'programming']\n",
            "apple-banana-cherry\n",
            "------python programming------\n",
            "python programming************\n",
            "************python programming\n",
            "000000000000python programming\n",
            "True\n",
            "True\n",
            "b'python programming'\n",
            "python\n",
            "Hello, Neha\n",
            "2 + 2 = 4\n",
            "Name: Neha, Age: 20\n"
          ]
        }
      ]
    }
  ]
}