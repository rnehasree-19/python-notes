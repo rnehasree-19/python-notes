{
  "nbformat": 4,
  "nbformat_minor": 0,
  "metadata": {
    "colab": {
      "provenance": []
    },
    "kernelspec": {
      "name": "python3",
      "display_name": "Python 3"
    },
    "language_info": {
      "name": "python"
    }
  },
  "cells": [
    {
      "cell_type": "markdown",
      "source": [
        "#Functions\n",
        "\n"
      ],
      "metadata": {
        "id": "9k4pMgi1Uyr0"
      }
    },
    {
      "cell_type": "markdown",
      "source": [
        "## 1. Introduction to Functions\n",
        "\n",
        "A **function** is a named block of reusable code that performs a specific task. Functions help reduce repetition, improve clarity, and simplify debugging.\n",
        "\n",
        "### Syntax\n",
        "```python\n",
        "def function_name():\n",
        "    # function body\n"
      ],
      "metadata": {
        "id": "U5zCTiSnU5MG"
      }
    },
    {
      "cell_type": "code",
      "execution_count": null,
      "metadata": {
        "id": "NqvIxacDUnHD"
      },
      "outputs": [],
      "source": [
        "def hello():\n",
        "    print(\"Howdy!\")\n",
        "    print(\"Howdy!!!\")\n",
        "    print(\"Hello there.\")\n",
        "\n",
        "hello()\n",
        "hello()\n",
        "hello()\n"
      ]
    },
    {
      "cell_type": "markdown",
      "source": [
        "## 2. Function Parameters and Arguments\n",
        "\n",
        "You can pass values to a function using **parameters** and **arguments**.\n",
        "\n",
        "### Syntax\n",
        "```python\n",
        "def function_name(parameter):\n",
        "    # code using the parameter\n"
      ],
      "metadata": {
        "id": "NoVvRtPjVCRU"
      }
    },
    {
      "cell_type": "code",
      "source": [
        "def hello(name):\n",
        "    print(\"Hello \" + name)\n",
        "\n",
        "hello(\"Alice\")\n",
        "hello(\"Bob\")\n"
      ],
      "metadata": {
        "id": "FU_5nmBrVFl6"
      },
      "execution_count": null,
      "outputs": []
    },
    {
      "cell_type": "markdown",
      "source": [
        "## 3. Return Values and `return` Statement\n",
        "\n",
        "Functions can return values using the `return` keyword.\n",
        "\n",
        "### Syntax\n",
        "```python\n",
        "def function_name():\n",
        "    return value\n",
        "\n"
      ],
      "metadata": {
        "id": "4bPFHjJeVIQm"
      }
    },
    {
      "cell_type": "code",
      "source": [
        "def getAnswer(answerNumber):\n",
        "    if answerNumber == 1:\n",
        "        return 'It is certain'\n",
        "    elif answerNumber == 2:\n",
        "        return 'It is decidedly so'\n",
        "    elif answerNumber == 3:\n",
        "        return 'Yes'\n"
      ],
      "metadata": {
        "id": "AwANmpUJVNQa"
      },
      "execution_count": null,
      "outputs": []
    },
    {
      "cell_type": "markdown",
      "source": [
        "### Use Case\n",
        "```python\n",
        "import random\n",
        "r = random.randint(1, 3)\n",
        "fortune = getAnswer(r)\n",
        "print(fortune)\n"
      ],
      "metadata": {
        "id": "6e48Fu5xVP6L"
      }
    },
    {
      "cell_type": "code",
      "source": [
        "import random\n",
        "r = random.randint(1, 3)\n",
        "fortune = getAnswer(r)\n",
        "print(fortune)\n",
        "\n",
        "# Or nested version:\n",
        "print(getAnswer(random.randint(1, 3)))\n"
      ],
      "metadata": {
        "id": "7oFhg5yDVTcd"
      },
      "execution_count": null,
      "outputs": []
    },
    {
      "cell_type": "markdown",
      "source": [
        "## 4. The `None` Value\n",
        "\n",
        "- `None` is a special value in Python indicating “no value”.\n",
        "- Default return of functions with no `return` statement.\n",
        "\n",
        "### Output\n"
      ],
      "metadata": {
        "id": "iH_7AnXeVWJe"
      }
    },
    {
      "cell_type": "code",
      "source": [
        "spam = print(\"Hello!\")\n",
        "print(spam == None)\n"
      ],
      "metadata": {
        "id": "ShlA8d2wVYC1"
      },
      "execution_count": null,
      "outputs": []
    },
    {
      "cell_type": "markdown",
      "source": [
        "## 5. Keyword Arguments and `print()`\n",
        "\n",
        "### Optional Parameters:\n",
        "- `end`: what to print at the end (default is newline)\n",
        "- `sep`: separator between multiple values (default is space)\n",
        "\n",
        "### Output\n"
      ],
      "metadata": {
        "id": "WtO5nqWqVZxY"
      }
    },
    {
      "cell_type": "code",
      "source": [
        "print(\"Hello\", end='')\n",
        "print(\"World\")\n",
        "\n",
        "print(\"cats\", \"dogs\", \"mice\", sep=',')\n"
      ],
      "metadata": {
        "id": "fi1meGljVcD2"
      },
      "execution_count": null,
      "outputs": []
    },
    {
      "cell_type": "markdown",
      "source": [
        "## 6. Local and Global Scope\n",
        "\n",
        "### Definitions:\n",
        "- **Local Variable**: Defined inside a function.\n",
        "- **Global Variable**: Defined outside all functions.\n",
        "\n",
        "### Key Rules:\n",
        "1. Code in global scope cannot access local variables.\n",
        "2. Code in local scope can access global variables (read-only).\n",
        "3. Local variables in different functions are independent.\n",
        "4. Use `global` keyword to modify global variables inside a function.\n"
      ],
      "metadata": {
        "id": "Mzi2JZazVe1G"
      }
    },
    {
      "cell_type": "code",
      "source": [
        "def spam():\n",
        "    print(eggs)\n",
        "\n",
        "eggs = 42\n",
        "spam()\n"
      ],
      "metadata": {
        "id": "X_6qX3OtVeRZ"
      },
      "execution_count": null,
      "outputs": []
    },
    {
      "cell_type": "code",
      "source": [
        "def spam():\n",
        "    global eggs\n",
        "    eggs = 'spam'\n",
        "\n",
        "eggs = 'global'\n",
        "spam()\n",
        "print(eggs)\n"
      ],
      "metadata": {
        "id": "gMVe1us9Vi8M"
      },
      "execution_count": null,
      "outputs": []
    },
    {
      "cell_type": "markdown",
      "source": [
        "## 7. Exception Handling with `try` and `except`\n",
        "\n",
        "Use `try...except` to prevent program crash due to errors.\n",
        "\n",
        "### Syntax\n",
        "```python\n",
        "try:\n",
        "    # risky code\n",
        "except ErrorType:\n",
        "    # handle error\n"
      ],
      "metadata": {
        "id": "w2r-nAZeVlqF"
      }
    },
    {
      "cell_type": "code",
      "source": [
        "def spam(divideBy):\n",
        "    try:\n",
        "        return 42 / divideBy\n",
        "    except ZeroDivisionError:\n",
        "        print(\"Error: Invalid argument.\")\n",
        "\n",
        "print(spam(2))\n",
        "print(spam(0))\n"
      ],
      "metadata": {
        "id": "s1VJrD9oVlLQ"
      },
      "execution_count": null,
      "outputs": []
    },
    {
      "cell_type": "markdown",
      "source": [
        "## 8. Practice Project: The Collatz Sequence\n",
        "\n",
        "### Rules:\n",
        "- If number is even: print `number // 2`\n",
        "- If number is odd: print `3 * number + 1`\n",
        "- Repeat until number becomes 1\n",
        "\n",
        "### Sample Output\n"
      ],
      "metadata": {
        "id": "7DqgYqqsVsjR"
      }
    },
    {
      "cell_type": "code",
      "source": [
        "def collatz(number):\n",
        "    if number % 2 == 0:\n",
        "        result = number // 2\n",
        "    else:\n",
        "        result = 3 * number + 1\n",
        "    print(result)\n",
        "    return result\n",
        "\n",
        "try:\n",
        "    n = int(input(\"Enter number: \"))\n",
        "    while n != 1:\n",
        "        n = collatz(n)\n",
        "except ValueError:\n",
        "    print(\"Please enter a valid integer.\")\n"
      ],
      "metadata": {
        "id": "TpFnphZTVuzJ"
      },
      "execution_count": null,
      "outputs": []
    },
    {
      "cell_type": "markdown",
      "source": [
        "## 9. Summary\n",
        "\n",
        "- Functions group reusable code together.\n",
        "- Use parameters to pass values and `return` to get values back.\n",
        "- Scopes control variable visibility (local vs global).\n",
        "- `try...except` prevents crash on errors.\n",
        "- Use functions as “black boxes” to simplify code.\n"
      ],
      "metadata": {
        "id": "TbmOoQBXVwsz"
      }
    }
  ]
}