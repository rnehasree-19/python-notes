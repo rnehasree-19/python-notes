{
  "nbformat": 4,
  "nbformat_minor": 0,
  "metadata": {
    "colab": {
      "provenance": []
    },
    "kernelspec": {
      "name": "python3",
      "display_name": "Python 3"
    },
    "language_info": {
      "name": "python"
    }
  },
  "cells": [
    {
      "cell_type": "markdown",
      "source": [
        "# Dictionaries and Structuring Data\n",
        "\n",
        "In Python, a **dictionary** is a collection of key-value pairs.  \n",
        "It is **unordered**, **mutable**, and **indexed by keys** (not positions like lists).\n",
        "\n",
        "Dictionaries are useful for storing data in a way that lets you quickly access values by using a key.\n",
        "\n",
        "---\n"
      ],
      "metadata": {
        "id": "ZvIdvZnUp3vE"
      }
    },
    {
      "cell_type": "markdown",
      "source": [
        "## Creating a Dictionary\n",
        "\n",
        "**Syntax:**\n",
        "```python\n",
        "dictionary_name = {key1: value1, key2: value2, ...}\n"
      ],
      "metadata": {
        "id": "sKdCeAUfp7Ed"
      }
    },
    {
      "cell_type": "code",
      "execution_count": 1,
      "metadata": {
        "colab": {
          "base_uri": "https://localhost:8080/"
        },
        "id": "SgzB2sZ2p1oX",
        "outputId": "db3958e8-b2f5-4247-b012-f89babd9a557"
      },
      "outputs": [
        {
          "output_type": "stream",
          "name": "stdout",
          "text": [
            "{'name': 'Alice', 'age': 21, 'course': 'Computer Science'}\n",
            "<class 'dict'>\n"
          ]
        }
      ],
      "source": [
        "# Creating a simple dictionary\n",
        "student = {\n",
        "    \"name\": \"Alice\",\n",
        "    \"age\": 21,\n",
        "    \"course\": \"Computer Science\"\n",
        "}\n",
        "\n",
        "print(student)\n",
        "print(type(student))\n"
      ]
    },
    {
      "cell_type": "markdown",
      "source": [
        "## Accessing Values from a Dictionary\n",
        "\n",
        "- Using **square brackets** `dict[key]`\n",
        "- Using `.get()` method (returns `None` or a default value if key is missing)\n",
        "\n",
        "**Example:**\n"
      ],
      "metadata": {
        "id": "ft1sSmTZqAdx"
      }
    },
    {
      "cell_type": "code",
      "source": [
        "print(student[\"name\"])        # Access using key\n",
        "print(student.get(\"age\"))     # Access using get()\n",
        "print(student.get(\"grade\"))   # Returns None if key doesn't exist\n",
        "print(student.get(\"grade\", \"Not Assigned\"))  # Returns default value\n"
      ],
      "metadata": {
        "colab": {
          "base_uri": "https://localhost:8080/"
        },
        "id": "dfl1v4C3qCZj",
        "outputId": "646abc41-5c7e-488b-d084-b4a8faa09987"
      },
      "execution_count": 3,
      "outputs": [
        {
          "output_type": "stream",
          "name": "stdout",
          "text": [
            "Alice\n",
            "21\n",
            "None\n",
            "Not Assigned\n"
          ]
        }
      ]
    },
    {
      "cell_type": "markdown",
      "source": [
        "## Adding and Modifying Key-Value Pairs\n",
        "\n",
        "- Adding: `dict[new_key] = value`\n",
        "- Modifying: `dict[existing_key] = new_value`\n",
        "\n",
        "**Example:**\n"
      ],
      "metadata": {
        "id": "ZzyXM6LkqD0o"
      }
    },
    {
      "cell_type": "code",
      "source": [
        "student[\"grade\"] = \"A\"  # Adding\n",
        "student[\"age\"] = 22     # Modifying\n",
        "print(student)\n"
      ],
      "metadata": {
        "colab": {
          "base_uri": "https://localhost:8080/"
        },
        "id": "FXPQlrlGqFpn",
        "outputId": "8b3097cc-812e-4968-849f-82d6705744bf"
      },
      "execution_count": 5,
      "outputs": [
        {
          "output_type": "stream",
          "name": "stdout",
          "text": [
            "{'name': 'Alice', 'age': 22, 'course': 'Computer Science', 'grade': 'A'}\n"
          ]
        }
      ]
    },
    {
      "cell_type": "markdown",
      "source": [
        "## Deleting Items from a Dictionary\n",
        "\n",
        "- `del dict[key]` → Deletes a specific key-value pair\n",
        "- `.pop(key)` → Removes and returns the value\n",
        "- `.popitem()` → Removes the last inserted key-value pair\n",
        "- `.clear()` → Removes all items\n"
      ],
      "metadata": {
        "id": "57LxiukXqHbW"
      }
    },
    {
      "cell_type": "code",
      "source": [
        "del student[\"course\"]\n",
        "print(student)\n",
        "\n",
        "age = student.pop(\"age\")\n",
        "print(\"Removed Age:\", age)\n",
        "\n",
        "last_item = student.popitem()\n",
        "print(\"Last removed:\", last_item)\n",
        "\n",
        "student.clear()\n",
        "print(student)\n"
      ],
      "metadata": {
        "colab": {
          "base_uri": "https://localhost:8080/"
        },
        "id": "8Y79_rG5qJXH",
        "outputId": "eafc3486-85a1-4b2e-94f5-d6c78feee7a9"
      },
      "execution_count": 6,
      "outputs": [
        {
          "output_type": "stream",
          "name": "stdout",
          "text": [
            "{'name': 'Alice', 'age': 22, 'grade': 'A'}\n",
            "Removed Age: 22\n",
            "Last removed: ('grade', 'A')\n",
            "{}\n"
          ]
        }
      ]
    },
    {
      "cell_type": "markdown",
      "source": [
        "## Dictionary Methods\n",
        "\n",
        "| Method         | Description |\n",
        "|----------------|-------------|\n",
        "| `.get(key,default)` | Returns value or default if key not found |\n",
        "| `.keys()` | Returns all keys |\n",
        "| `.values()` | Returns all values |\n",
        "| `.items()` | Returns all key-value pairs |\n",
        "| `.update(dict2)` | Updates dictionary with another dictionary |\n",
        "| `.pop(key)` | Removes and returns a value |\n",
        "| `.popitem()` | Removes and returns last inserted item |\n",
        "| `.clear()` | Removes all items |\n",
        "| `len(dict)` | Returns number of items |\n"
      ],
      "metadata": {
        "id": "1mWcqa0EqLiP"
      }
    },
    {
      "cell_type": "code",
      "source": [
        "student = {\"name\": \"Alice\", \"age\": 21, \"course\": \"CS\"}\n",
        "\n",
        "print(student.keys())\n",
        "print(student.values())\n",
        "print(student.items())\n",
        "\n",
        "student.update({\"grade\": \"A\", \"age\": 22})\n",
        "print(student)\n"
      ],
      "metadata": {
        "colab": {
          "base_uri": "https://localhost:8080/"
        },
        "id": "3ZC26DJJqN9I",
        "outputId": "d35c7dec-ea56-42fe-dab2-faee058c98a6"
      },
      "execution_count": 7,
      "outputs": [
        {
          "output_type": "stream",
          "name": "stdout",
          "text": [
            "dict_keys(['name', 'age', 'course'])\n",
            "dict_values(['Alice', 21, 'CS'])\n",
            "dict_items([('name', 'Alice'), ('age', 21), ('course', 'CS')])\n",
            "{'name': 'Alice', 'age': 22, 'course': 'CS', 'grade': 'A'}\n"
          ]
        }
      ]
    },
    {
      "cell_type": "markdown",
      "source": [
        "## Looping Through a Dictionary\n",
        "\n",
        "We can loop through:\n",
        "- **Keys** → `for key in dict`\n",
        "- **Values** → `for value in dict.values()`\n",
        "- **Key-Value Pairs** → `for key, value in dict.items()`\n"
      ],
      "metadata": {
        "id": "mw7BMvL_qQXN"
      }
    },
    {
      "cell_type": "code",
      "source": [
        "for key in student:\n",
        "    print(key, \":\", student[key])\n",
        "\n",
        "for value in student.values():\n",
        "    print(\"Value:\", value)\n",
        "\n",
        "for key, value in student.items():\n",
        "    print(f\"{key} => {value}\")\n"
      ],
      "metadata": {
        "colab": {
          "base_uri": "https://localhost:8080/"
        },
        "id": "m0ALsXzwqUGT",
        "outputId": "34b7a7b0-116a-4903-dd33-2b9b50d8bf9e"
      },
      "execution_count": 8,
      "outputs": [
        {
          "output_type": "stream",
          "name": "stdout",
          "text": [
            "name : Alice\n",
            "age : 22\n",
            "course : CS\n",
            "grade : A\n",
            "Value: Alice\n",
            "Value: 22\n",
            "Value: CS\n",
            "Value: A\n",
            "name => Alice\n",
            "age => 22\n",
            "course => CS\n",
            "grade => A\n"
          ]
        }
      ]
    },
    {
      "cell_type": "markdown",
      "source": [
        "## Nested Dictionaries and Lists\n",
        "\n",
        "Dictionaries can contain lists and other dictionaries.\n",
        "\n",
        "**Example:**\n"
      ],
      "metadata": {
        "id": "vEzQ0D35qWxI"
      }
    },
    {
      "cell_type": "code",
      "source": [
        "students = {\n",
        "    \"S001\": {\"name\": \"Alice\", \"marks\": [85, 90, 92]},\n",
        "    \"S002\": {\"name\": \"Bob\", \"marks\": [78, 81, 85]}\n",
        "}\n",
        "\n",
        "print(students[\"S001\"][\"name\"])\n",
        "print(students[\"S002\"][\"marks\"][1])\n"
      ],
      "metadata": {
        "colab": {
          "base_uri": "https://localhost:8080/"
        },
        "id": "qnnVxzskqbjD",
        "outputId": "34bc7d89-2c95-4466-930a-553a2eb69953"
      },
      "execution_count": 9,
      "outputs": [
        {
          "output_type": "stream",
          "name": "stdout",
          "text": [
            "Alice\n",
            "81\n"
          ]
        }
      ]
    },
    {
      "cell_type": "markdown",
      "source": [
        "## Pretty Printing Dictionaries\n",
        "\n",
        "We can use Python’s `pprint` module to make dictionary output more readable.\n"
      ],
      "metadata": {
        "id": "veH8sj9eqdmU"
      }
    },
    {
      "cell_type": "code",
      "source": [
        "import pprint\n",
        "\n",
        "pprint.pprint(students)\n"
      ],
      "metadata": {
        "colab": {
          "base_uri": "https://localhost:8080/"
        },
        "id": "0O68Qh8zqfYu",
        "outputId": "e6943e28-4105-4a3b-be11-2727305a06e8"
      },
      "execution_count": 10,
      "outputs": [
        {
          "output_type": "stream",
          "name": "stdout",
          "text": [
            "{'S001': {'marks': [85, 90, 92], 'name': 'Alice'},\n",
            " 'S002': {'marks': [78, 81, 85], 'name': 'Bob'}}\n"
          ]
        }
      ]
    },
    {
      "cell_type": "markdown",
      "source": [
        "## Practice Questions\n",
        "\n",
        "### Q1. Create a dictionary of 5 countries and their capitals.\n"
      ],
      "metadata": {
        "id": "3yNhIs7xq14O"
      }
    },
    {
      "cell_type": "code",
      "source": [
        "countries_capitals = {\n",
        "    \"India\": \"New Delhi\",\n",
        "    \"USA\": \"Washington D.C.\",\n",
        "    \"France\": \"Paris\",\n",
        "    \"Japan\": \"Tokyo\",\n",
        "    \"Brazil\": \"Brasília\"\n",
        "}\n",
        "print(countries_capitals)\n"
      ],
      "metadata": {
        "id": "MGoI3I1Gq3Ir"
      },
      "execution_count": null,
      "outputs": []
    },
    {
      "cell_type": "markdown",
      "source": [
        "### Q2. Access a value using both square brackets and `.get()`.\n"
      ],
      "metadata": {
        "id": "M6EvdYw8q7tI"
      }
    },
    {
      "cell_type": "code",
      "source": [
        "# Accessing using square brackets\n",
        "print(\"Capital of India (square brackets):\", countries_capitals[\"India\"])\n",
        "\n",
        "# Accessing using .get()\n",
        "print(\"Capital of USA (.get()):\", countries_capitals.get(\"USA\"))\n"
      ],
      "metadata": {
        "id": "OwpqTW_Pq9xr"
      },
      "execution_count": null,
      "outputs": []
    },
    {
      "cell_type": "markdown",
      "source": [
        "### Q3. Add a new key-value pair to your dictionary.\n"
      ],
      "metadata": {
        "id": "1aISSl-Mq_Ua"
      }
    },
    {
      "cell_type": "code",
      "source": [
        "# Adding a new key-value pair\n",
        "countries_capitals[\"Australia\"] = \"Canberra\"\n",
        "print(countries_capitals)\n"
      ],
      "metadata": {
        "id": "KLM5NyZMrBE4"
      },
      "execution_count": null,
      "outputs": []
    },
    {
      "cell_type": "markdown",
      "source": [
        "### Q4. Delete a key-value pair using `.pop()` and `del`.\n"
      ],
      "metadata": {
        "id": "u-PW2aG1rCYA"
      }
    },
    {
      "cell_type": "code",
      "source": [
        "# Using pop()\n",
        "removed_capital = countries_capitals.pop(\"Brazil\")\n",
        "print(\"Removed capital:\", removed_capital)\n",
        "print(countries_capitals)\n",
        "\n",
        "# Using del\n",
        "del countries_capitals[\"France\"]\n",
        "print(countries_capitals)\n"
      ],
      "metadata": {
        "id": "RZmAmZHdrDj9"
      },
      "execution_count": null,
      "outputs": []
    },
    {
      "cell_type": "markdown",
      "source": [
        "### Q5. Loop through your dictionary and print keys and values.\n"
      ],
      "metadata": {
        "id": "TgpYuLTyrFOu"
      }
    },
    {
      "cell_type": "code",
      "source": [
        "# Loop through dictionary\n",
        "for country, capital in countries_capitals.items():\n",
        "    print(f\"{country} → {capital}\")\n"
      ],
      "metadata": {
        "id": "9GujNwhurGYd"
      },
      "execution_count": null,
      "outputs": []
    },
    {
      "cell_type": "markdown",
      "source": [
        "### Q6. Create a nested dictionary for 3 students with name, age, and marks.\n"
      ],
      "metadata": {
        "id": "dRTT6_46rIU5"
      }
    },
    {
      "cell_type": "code",
      "source": [
        "# Nested dictionary\n",
        "students = {\n",
        "    \"student1\": {\"name\": \"Alice\", \"age\": 20, \"marks\": 85},\n",
        "    \"student2\": {\"name\": \"Bob\", \"age\": 21, \"marks\": 90},\n",
        "    \"student3\": {\"name\": \"Charlie\", \"age\": 19, \"marks\": 88}\n",
        "}\n",
        "print(students)\n"
      ],
      "metadata": {
        "id": "uU8gdR74rJbQ"
      },
      "execution_count": null,
      "outputs": []
    },
    {
      "cell_type": "markdown",
      "source": [
        "### Q7. Use `pprint` to display your nested dictionary neatly.\n"
      ],
      "metadata": {
        "id": "39lBRCcCrLsh"
      }
    },
    {
      "cell_type": "code",
      "source": [
        "import pprint\n",
        "\n",
        "# Pretty printing the nested dictionary\n",
        "pprint.pprint(students)\n",
        ""
      ],
      "metadata": {
        "id": "8kWXtauZrM-o"
      },
      "execution_count": null,
      "outputs": []
    }
  ]
}